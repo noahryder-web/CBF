{
 "cells": [
  {
   "cell_type": "code",
   "execution_count": 1,
   "id": "fe2d9252-0745-4644-8234-2f56ddd9e3a5",
   "metadata": {},
   "outputs": [],
   "source": [
    "import pandas as pd\n",
    "from sentence_transformers import SentenceTransformer\n",
    "from sklearn.metrics.pairwise import cosine_similarity\n",
    "import numpy as np"
   ]
  },
  {
   "cell_type": "code",
   "execution_count": null,
   "id": "d63d1295-76c2-43af-979f-0d1107b50f87",
   "metadata": {},
   "outputs": [
    {
     "name": "stdout",
     "output_type": "stream",
     "text": [
      "   movieId                               title  \\\n",
      "0        1                    Toy Story (1995)   \n",
      "1        2                      Jumanji (1995)   \n",
      "2        3             Grumpier Old Men (1995)   \n",
      "3        4            Waiting to Exhale (1995)   \n",
      "4        5  Father of the Bride Part II (1995)   \n",
      "\n",
      "                                        genres  \\\n",
      "0  Adventure|Animation|Children|Comedy|Fantasy   \n",
      "1                   Adventure|Children|Fantasy   \n",
      "2                               Comedy|Romance   \n",
      "3                         Comedy|Drama|Romance   \n",
      "4                                       Comedy   \n",
      "\n",
      "                                                 tag  \\\n",
      "0  girl want to see again ventilation shaft light...   \n",
      "1  girl driving a car into a building fish out of...   \n",
      "2  Minnesota old age moldy Walter Matthau duringc...   \n",
      "3  divorce chick flick single mother based on nov...   \n",
      "4  parent child relationship seen more than once ...   \n",
      "\n",
      "                                         description  \n",
      "0  Adventure|Animation|Children|Comedy|Fantasy gi...  \n",
      "1  Adventure|Children|Fantasy girl driving a car ...  \n",
      "2  Comedy|Romance Minnesota old age moldy Walter ...  \n",
      "3  Comedy|Drama|Romance divorce chick flick singl...  \n",
      "4  Comedy parent child relationship seen more tha...  \n"
     ]
    }
   ],
   "source": [
    "# Configurations\n",
    "data_path = \"/Users/rainfalls/Downloads/ml-32m/\"\n",
    "\n",
    "# Load Data\n",
    "movies = pd.read_csv(data_path + \"movies.csv\")\n",
    "tags = pd.read_csv(data_path + \"tags.csv\")\n",
    "\n",
    "# Clean and prepare Tags\n",
    "# Ensure all tags are strings and handle NaNs explicitly\n",
    "tags['tag'] = tags['tag'].astype(str)\n",
    "tags['tag'] = tags.groupby('movieId')['tag'].transform(lambda x: ' '.join(set(x)))\n",
    "tags = tags[['movieId', 'tag']].drop_duplicates()\n",
    "\n",
    "# Merge tags with movies\n",
    "movies = movies.merge(tags, on='movieId', how='left')\n",
    "# Replace NaNs in 'tag' with empty strings directly\n",
    "movies['tag'] = movies['tag'].fillna('')\n",
    "\n",
    "# Create a new column in movies DataFrame to hold combined descriptions\n",
    "movies['description'] = movies['genres'] + \" \" + movies['tag']\n",
    "\n",
    "# Print some data to check everything loaded correctly\n",
    "print(movies.head())\n",
    "\n",
    "# Initialize Sentence Transformer Model and generate embeddings\n",
    "model = SentenceTransformer('all-MiniLM-L6-v2')\n",
    "movie_descriptions = movies['description'].tolist()\n",
    "embeddings = model.encode(movie_descriptions, normalize_embeddings=True)\n",
    "\n",
    "# Save embeddings for later use (optional)\n",
    "np.save(data_path + \"movie_embeddings.npy\", embeddings)\n",
    "\n",
    "# Calculate cosine similarity matrix\n",
    "similarity_matrix = cosine_similarity(embeddings)\n",
    "\n",
    "# Function to find similar movies based on cosine similarity\n",
    "def get_similar_movies(movie_title, top_n=5):\n",
    "    try:\n",
    "        movie_idx = movies[movies['title'] == movie_title].index[0]\n",
    "    except IndexError:\n",
    "        return f\"No movie found with title {movie_title}\"\n",
    "    \n",
    "    sim_scores = list(enumerate(similarity_matrix[movie_idx]))\n",
    "    sim_scores = sorted(sim_scores, key=lambda x: x[1], reverse=True)[1:top_n+1]\n",
    "    top_similar_indices = [i[0] for i in sim_scores]\n",
    "    similar_movies = movies.iloc[top_similar_indices][['title', 'genres']]\n",
    "    return similar_movies\n",
    "\n",
    "# Example usage: Get top 5 similar movies for a given movie\n",
    "example_movie = 'Toy Story (1995)'  # Change this to any movie title in the dataset\n",
    "similar_movies = get_similar_movies(example_movie, 5)\n",
    "print(f\"Movies similar to {example_movie}:\")\n",
    "print(similar_movies)"
   ]
  },
  {
   "cell_type": "code",
   "execution_count": null,
   "id": "cf9a90a3-00ec-4af1-9f04-decaf7ad933e",
   "metadata": {},
   "outputs": [],
   "source": [
    "# Prompt user to enter a movie title\n",
    "user_movie_input = input(\"Enter a movie title to find similar movies: \")\n",
    "print(f\"User entered: {user_movie_input}\")\n",
    "\n",
    "similar_movies = get_similar_movies(user_movie_input, 5)\n",
    "\n",
    "print(f\"Movies similar to '{user_movie_input}':\")\n",
    "print(similar_movies)"
   ]
  },
  {
   "cell_type": "code",
   "execution_count": null,
   "id": "41b088f3-6ee4-4f41-b224-02a50b115d88",
   "metadata": {},
   "outputs": [],
   "source": []
  },
  {
   "cell_type": "code",
   "execution_count": null,
   "id": "8a3ecfc9-796c-4ad4-8bdc-921c918dd48c",
   "metadata": {},
   "outputs": [],
   "source": []
  }
 ],
 "metadata": {
  "kernelspec": {
   "display_name": "Python 3 (ipykernel)",
   "language": "python",
   "name": "python3"
  },
  "language_info": {
   "codemirror_mode": {
    "name": "ipython",
    "version": 3
   },
   "file_extension": ".py",
   "mimetype": "text/x-python",
   "name": "python",
   "nbconvert_exporter": "python",
   "pygments_lexer": "ipython3",
   "version": "3.12.4"
  }
 },
 "nbformat": 4,
 "nbformat_minor": 5
}
