{
 "cells": [
  {
   "cell_type": "markdown",
   "metadata": {},
   "source": [
    "## **Import Libraries** "
   ]
  },
  {
   "cell_type": "code",
   "execution_count": 3,
   "metadata": {},
   "outputs": [],
   "source": [
    "import pandas as pd\n",
    "import torch\n",
    "from torch.utils.data import DataLoader \n",
    "from sentence_transformers import SentenceTransformer, InputExample, losses\n",
    "from sklearn.metrics.pairwise import cosine_similarity"
   ]
  },
  {
   "cell_type": "markdown",
   "metadata": {},
   "source": [
    "## **Loading Movie and Tag Data**"
   ]
  },
  {
   "cell_type": "code",
   "execution_count": 4,
   "metadata": {},
   "outputs": [
    {
     "name": "stdout",
     "output_type": "stream",
     "text": [
      "   movieId                               title  \\\n",
      "0        1                    Toy Story (1995)   \n",
      "1        2                      Jumanji (1995)   \n",
      "2        3             Grumpier Old Men (1995)   \n",
      "3        4            Waiting to Exhale (1995)   \n",
      "4        5  Father of the Bride Part II (1995)   \n",
      "\n",
      "                                        genres  \n",
      "0  Adventure|Animation|Children|Comedy|Fantasy  \n",
      "1                   Adventure|Children|Fantasy  \n",
      "2                               Comedy|Romance  \n",
      "3                         Comedy|Drama|Romance  \n",
      "4                                       Comedy  \n",
      "   userId  movieId          tag   timestamp\n",
      "0      22    26479  Kevin Kline  1583038886\n",
      "1      22    79592     misogyny  1581476297\n",
      "2      22   247150   acrophobia  1622483469\n",
      "3      34     2174        music  1249808064\n",
      "4      34     2174        weird  1249808102\n"
     ]
    }
   ],
   "source": [
    "movies_df = pd.read_csv(\"../data/movies.csv\")  \n",
    "tags_df = pd.read_csv(\"../data/tags.csv\")\n",
    "\n",
    "# Print a sample to check data\n",
    "print(movies_df.head())\n",
    "print(tags_df.head())\n"
   ]
  },
  {
   "cell_type": "markdown",
   "metadata": {},
   "source": [
    "## **Data Preprocessing**\n",
    "\n",
    "1. Remove NaN values from the `tag` column.\n",
    "2. Convert the `tag` column to strings for easy concatenation.\n",
    "3. Group tags by `movieId` and concatenate unique tags.\n",
    "4. Merge movie metadata with tags to create a unified dataset.\n",
    "5. Create a new `description` column combining genres and tags."
   ]
  },
  {
   "cell_type": "code",
   "execution_count": 5,
   "metadata": {},
   "outputs": [],
   "source": [
    "# Drop NaN values from 'tag' column (since they are floats)\n",
    "tags_df = tags_df.dropna(subset=[\"tag\"])\n",
    "\n",
    "# Convert 'tag' column to string (necessary for concatenation)\n",
    "tags_df[\"tag\"] = tags_df[\"tag\"].astype(str)\n",
    "\n",
    "# Group tags by movieId and concatenate unique tags\n",
    "tags_grouped = tags_df.groupby(\"movieId\")[\"tag\"].apply(lambda x: \" \".join(set(x))).reset_index()\n"
   ]
  },
  {
   "cell_type": "code",
   "execution_count": 6,
   "metadata": {},
   "outputs": [],
   "source": [
    "# Ensure movieId types match before merging\n",
    "movies_df[\"movieId\"] = movies_df[\"movieId\"].astype(int)\n",
    "tags_grouped[\"movieId\"] = tags_grouped[\"movieId\"].astype(int)\n",
    "\n",
    "# Merge movies and tags\n",
    "movies_df = movies_df.merge(tags_grouped, on=\"movieId\", how=\"left\")\n",
    "\n",
    "# Fill NaN tags with empty string\n",
    "movies_df[\"tag\"] = movies_df[\"tag\"].fillna(\"\")\n",
    "\n",
    "# Create movie descriptions by combining genres and tags\n",
    "movies_df[\"description\"] = movies_df[\"genres\"] + \" \" + movies_df[\"tag\"]\n"
   ]
  },
  {
   "cell_type": "markdown",
   "metadata": {},
   "source": [
    "## **Generating Sentence Embeddings**\n",
    "\n",
    "We use the `sentence-transformers` library to encode movie descriptions into vector embeddings.\n",
    "\n",
    "**Model Used:** `'all-MiniLM-L6-v2'`  \n",
    "**Normalization:** `normalize_embeddings=True`\n"
   ]
  },
  {
   "cell_type": "code",
   "execution_count": null,
   "metadata": {},
   "outputs": [
    {
     "name": "stdout",
     "output_type": "stream",
     "text": [
      "Embeddings generated successfully!\n"
     ]
    }
   ],
   "source": [
    "# Ensure 'description' column exists\n",
    "if \"description\" in movies_df.columns:\n",
    "    movie_descriptions = movies_df[\"description\"].astype(str).tolist()\n",
    "else:\n",
    "    raise ValueError(\"The 'description' column is missing from movies_df.\")\n",
    "\n",
    "# Generate embeddings\n",
    "model = SentenceTransformer('all-MiniLM-L6-v2')\n",
    "embeddings = model.encode(movie_descriptions, normalize_embeddings=True)\n",
    "\n",
    "print(\"Embeddings generated successfully!\")\n"
   ]
  },
  {
   "cell_type": "markdown",
   "metadata": {},
   "source": [
    "## **Fine-Tuning Sentence Transformer Model**\n",
    "\n",
    "We fine-tune the model using contrastive loss.\n",
    "- **Training Data:** Pairs of movie descriptions labeled as similar or dissimilar.\n",
    "- **Loss Function:** `ContrastiveLoss`\n",
    "- **Epochs:** `1` (for quick testing)"
   ]
  },
  {
   "cell_type": "code",
   "execution_count": null,
   "metadata": {},
   "outputs": [],
   "source": [
    "train_data = [\n",
    "    (\"Toy Story is a great animation\", \"Finding Nemo is also amazing\", 1),  # Similar\n",
    "    (\"Horror movies are scary\", \"Romantic comedies are funny\", 0),  # Dissimilar\n",
    "]\n",
    "\n",
    "# Convert data into Sentence Transformers format\n",
    "train_examples = [InputExample(texts=[a, b], label=float(score)) for a, b, score in train_data]\n",
    "\n",
    "# Create DataLoader\n",
    "train_dataloader = DataLoader(train_examples, shuffle=True, batch_size=8)\n",
    "\n",
    "loss_function = losses.ContrastiveLoss(model)\n",
    "\n",
    "# Train the model\n",
    "model.fit(train_objectives=[(train_dataloader, loss_function)], epochs=1)\n",
    "\n",
    "print(\"Fine-tuning complete!\")\n"
   ]
  },
  {
   "cell_type": "markdown",
   "metadata": {},
   "source": [
    "## **Computing Movie Similarity** \n",
    "\n",
    "We compute the **cosine similarity** between all movie embeddings.\n",
    "\n",
    "**Method Used:** `cosine_similarity(embeddings)`\n",
    "**Purpose:** To measure how similar two movies are based on text descriptions.\n"
   ]
  },
  {
   "cell_type": "code",
   "execution_count": null,
   "metadata": {},
   "outputs": [],
   "source": [
    "# ERROR : Taking too long to run \n",
    "similarity_matrix = cosine_similarity(embeddings)\n",
    "\n",
    "print(\"Cosine similarity matrix computed successfully!\")\n"
   ]
  },
  {
   "cell_type": "code",
   "execution_count": null,
   "metadata": {},
   "outputs": [],
   "source": [
    "# Function to get top-N similar movies based on cosine similarity\n",
    "def get_similar_movies(movie_index, top_n=5):\n",
    "    # Get similarity scores for the given movie\n",
    "    similar_movies = list(enumerate(similarity_matrix[movie_index]))\n",
    "\n",
    "    # Sort movies by similarity score in descending order\n",
    "    similar_movies = sorted(similar_movies, key=lambda x: x[1], reverse=True)\n",
    "\n",
    "    # Exclude the movie itself (first entry) and select top-N similar movies\n",
    "    similar_movies = similar_movies[1:top_n+1]\n",
    "\n",
    "    # Return movie titles of the most similar movies\n",
    "    return [movies_df.iloc[i[0]][\"title\"] for i in similar_movies]\n",
    "\n",
    "# Example: Get similar movies for the first movie in the dataset\n",
    "movie_index = 0  # Change this index to get recommendations for different movies\n",
    "print(f\"Top 5 similar movies to '{movies_df.iloc[movie_index]['title']}':\")\n",
    "print(get_similar_movies(movie_index, top_n=5))"
   ]
  }
 ],
 "metadata": {
  "kernelspec": {
   "display_name": "base",
   "language": "python",
   "name": "python3"
  },
  "language_info": {
   "codemirror_mode": {
    "name": "ipython",
    "version": 3
   },
   "file_extension": ".py",
   "mimetype": "text/x-python",
   "name": "python",
   "nbconvert_exporter": "python",
   "pygments_lexer": "ipython3",
   "version": "3.12.7"
  }
 },
 "nbformat": 4,
 "nbformat_minor": 2
}
