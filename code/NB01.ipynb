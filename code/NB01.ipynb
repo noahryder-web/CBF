{
 "cells": [
  {
   "cell_type": "code",
   "execution_count": 10,
   "metadata": {},
   "outputs": [],
   "source": [
    "import pandas as pd\n",
    "import torch\n",
    "from torch.utils.data import DataLoader \n",
    "from sentence_transformers import SentenceTransformer, InputExample, losses"
   ]
  },
  {
   "cell_type": "code",
   "execution_count": 11,
   "metadata": {},
   "outputs": [
    {
     "name": "stdout",
     "output_type": "stream",
     "text": [
      "   movieId                               title  \\\n",
      "0        1                    Toy Story (1995)   \n",
      "1        2                      Jumanji (1995)   \n",
      "2        3             Grumpier Old Men (1995)   \n",
      "3        4            Waiting to Exhale (1995)   \n",
      "4        5  Father of the Bride Part II (1995)   \n",
      "\n",
      "                                        genres  \n",
      "0  Adventure|Animation|Children|Comedy|Fantasy  \n",
      "1                   Adventure|Children|Fantasy  \n",
      "2                               Comedy|Romance  \n",
      "3                         Comedy|Drama|Romance  \n",
      "4                                       Comedy  \n",
      "   userId  movieId          tag   timestamp\n",
      "0      22    26479  Kevin Kline  1583038886\n",
      "1      22    79592     misogyny  1581476297\n",
      "2      22   247150   acrophobia  1622483469\n",
      "3      34     2174        music  1249808064\n",
      "4      34     2174        weird  1249808102\n"
     ]
    }
   ],
   "source": [
    "movies_df = pd.read_csv(\"../data/movies.csv\")  \n",
    "tags_df = pd.read_csv(\"../data/tags.csv\")\n",
    "\n",
    "# Print a sample to check data\n",
    "print(movies_df.head())\n",
    "print(tags_df.head())\n"
   ]
  },
  {
   "cell_type": "code",
   "execution_count": 12,
   "metadata": {},
   "outputs": [],
   "source": [
    "# Drop NaN values from 'tag' column (since they are floats)\n",
    "tags_df = tags_df.dropna(subset=[\"tag\"])\n",
    "\n",
    "# Convert 'tag' column to string (necessary for concatenation)\n",
    "tags_df[\"tag\"] = tags_df[\"tag\"].astype(str)\n",
    "\n",
    "# Group tags by movieId and concatenate unique tags\n",
    "tags_grouped = tags_df.groupby(\"movieId\")[\"tag\"].apply(lambda x: \" \".join(set(x))).reset_index()\n"
   ]
  },
  {
   "cell_type": "code",
   "execution_count": 13,
   "metadata": {},
   "outputs": [],
   "source": [
    "# Ensure movieId types match before merging\n",
    "movies_df[\"movieId\"] = movies_df[\"movieId\"].astype(int)\n",
    "tags_grouped[\"movieId\"] = tags_grouped[\"movieId\"].astype(int)\n",
    "\n",
    "# Merge movies and tags\n",
    "movies_df = movies_df.merge(tags_grouped, on=\"movieId\", how=\"left\")\n",
    "\n",
    "# Fill NaN tags with empty string\n",
    "movies_df[\"tag\"] = movies_df[\"tag\"].fillna(\"\")\n",
    "\n",
    "# Create movie descriptions by combining genres and tags\n",
    "movies_df[\"description\"] = movies_df[\"genres\"] + \" \" + movies_df[\"tag\"]\n"
   ]
  },
  {
   "cell_type": "code",
   "execution_count": 14,
   "metadata": {},
   "outputs": [
    {
     "name": "stdout",
     "output_type": "stream",
     "text": [
      "Embeddings generated successfully!\n"
     ]
    }
   ],
   "source": [
    "# Ensure 'description' column exists\n",
    "if \"description\" in movies_df.columns:\n",
    "    movie_descriptions = movies_df[\"description\"].astype(str).tolist()\n",
    "else:\n",
    "    raise ValueError(\"The 'description' column is missing from movies_df.\")\n",
    "\n",
    "# Generate embeddings\n",
    "from sentence_transformers import SentenceTransformer\n",
    "\n",
    "model = SentenceTransformer('all-MiniLM-L6-v2')\n",
    "embeddings = model.encode(movie_descriptions, normalize_embeddings=True)\n",
    "\n",
    "print(\"Embeddings generated successfully!\")\n"
   ]
  },
  {
   "cell_type": "code",
   "execution_count": 15,
   "metadata": {},
   "outputs": [],
   "source": [
    "train_data = [\n",
    "    (\"Toy Story is a great animation\", \"Finding Nemo is also amazing\", 1),  # Similar\n",
    "    (\"Horror movies are scary\", \"Romantic comedies are funny\", 0),  # Dissimilar\n",
    "]\n"
   ]
  },
  {
   "cell_type": "code",
   "execution_count": 16,
   "metadata": {},
   "outputs": [],
   "source": [
    "# Convert data into Sentence Transformers format\n",
    "train_examples = [InputExample(texts=[a, b], label=float(score)) for a, b, score in train_data]\n",
    "\n",
    "# Create DataLoader\n",
    "train_dataloader = DataLoader(train_examples, shuffle=True, batch_size=8)\n"
   ]
  },
  {
   "cell_type": "code",
   "execution_count": 17,
   "metadata": {},
   "outputs": [],
   "source": [
    "loss_function = losses.ContrastiveLoss(model)\n"
   ]
  },
  {
   "cell_type": "code",
   "execution_count": 18,
   "metadata": {},
   "outputs": [
    {
     "data": {
      "application/vnd.jupyter.widget-view+json": {
       "model_id": "7165b772a754479a817a502b604c1220",
       "version_major": 2,
       "version_minor": 0
      },
      "text/plain": [
       "Computing widget examples:   0%|          | 0/1 [00:00<?, ?example/s]"
      ]
     },
     "metadata": {},
     "output_type": "display_data"
    },
    {
     "data": {
      "text/html": [
       "\n",
       "    <div>\n",
       "      \n",
       "      <progress value='1' max='1' style='width:300px; height:20px; vertical-align: middle;'></progress>\n",
       "      [1/1 00:00, Epoch 1/1]\n",
       "    </div>\n",
       "    <table border=\"1\" class=\"dataframe\">\n",
       "  <thead>\n",
       " <tr style=\"text-align: left;\">\n",
       "      <th>Step</th>\n",
       "      <th>Training Loss</th>\n",
       "    </tr>\n",
       "  </thead>\n",
       "  <tbody>\n",
       "  </tbody>\n",
       "</table><p>"
      ],
      "text/plain": [
       "<IPython.core.display.HTML object>"
      ]
     },
     "metadata": {},
     "output_type": "display_data"
    },
    {
     "name": "stdout",
     "output_type": "stream",
     "text": [
      "Fine-tuning complete!\n"
     ]
    }
   ],
   "source": [
    "# Train the model\n",
    "model.fit(train_objectives=[(train_dataloader, loss_function)], epochs=1)\n",
    "\n",
    "print(\"Fine-tuning complete!\")"
   ]
  }
 ],
 "metadata": {
  "kernelspec": {
   "display_name": "base",
   "language": "python",
   "name": "python3"
  },
  "language_info": {
   "codemirror_mode": {
    "name": "ipython",
    "version": 3
   },
   "file_extension": ".py",
   "mimetype": "text/x-python",
   "name": "python",
   "nbconvert_exporter": "python",
   "pygments_lexer": "ipython3",
   "version": "3.12.7"
  }
 },
 "nbformat": 4,
 "nbformat_minor": 2
}
