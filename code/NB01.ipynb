{
 "cells": [
  {
   "cell_type": "code",
   "execution_count": 2,
   "metadata": {},
   "outputs": [],
   "source": [
    "import pandas as pd\n",
    "import torch\n",
    "from torch.utils.data import DataLoader \n",
    "from sentence_transformers import SentenceTransformer, InputExample, losses\n"
   ]
  },
  {
   "cell_type": "code",
   "execution_count": 3,
   "metadata": {},
   "outputs": [
    {
     "name": "stdout",
     "output_type": "stream",
     "text": [
      "/opt/anaconda3/bin/python\n",
      "3.12.7 | packaged by Anaconda, Inc. | (main, Oct  4 2024, 08:22:19) [Clang 14.0.6 ]\n"
     ]
    }
   ],
   "source": [
    "import sys\n",
    "print(sys.executable)\n",
    "print(sys.version)\n"
   ]
  },
  {
   "cell_type": "code",
   "execution_count": 4,
   "metadata": {},
   "outputs": [
    {
     "name": "stdout",
     "output_type": "stream",
     "text": [
      "2.6.0\n"
     ]
    }
   ],
   "source": [
    "import torch\n",
    "print(torch.__version__)  # Should print 2.6.0\n"
   ]
  },
  {
   "cell_type": "code",
   "execution_count": 5,
   "metadata": {},
   "outputs": [
    {
     "name": "stdout",
     "output_type": "stream",
     "text": [
      "2.6.0\n",
      "<class 'sentence_transformers.SentenceTransformer.SentenceTransformer'>\n"
     ]
    }
   ],
   "source": [
    "print(torch.__version__)  # This should print the PyTorch version\n",
    "print(SentenceTransformer)  # This should print the transformer class\n"
   ]
  },
  {
   "cell_type": "code",
   "execution_count": 6,
   "metadata": {},
   "outputs": [
    {
     "name": "stdout",
     "output_type": "stream",
     "text": [
      "   movieId                               title  \\\n",
      "0        1                    Toy Story (1995)   \n",
      "1        2                      Jumanji (1995)   \n",
      "2        3             Grumpier Old Men (1995)   \n",
      "3        4            Waiting to Exhale (1995)   \n",
      "4        5  Father of the Bride Part II (1995)   \n",
      "\n",
      "                                        genres  \n",
      "0  Adventure|Animation|Children|Comedy|Fantasy  \n",
      "1                   Adventure|Children|Fantasy  \n",
      "2                               Comedy|Romance  \n",
      "3                         Comedy|Drama|Romance  \n",
      "4                                       Comedy  \n",
      "   userId  movieId          tag   timestamp\n",
      "0      22    26479  Kevin Kline  1583038886\n",
      "1      22    79592     misogyny  1581476297\n",
      "2      22   247150   acrophobia  1622483469\n",
      "3      34     2174        music  1249808064\n",
      "4      34     2174        weird  1249808102\n"
     ]
    }
   ],
   "source": [
    "# Load movies.csv\n",
    "movies_df = pd.read_csv(\"../data/ml-32m/movies.csv\")\n",
    "\n",
    "# Load tags.csv\n",
    "tags_df = pd.read_csv(\"../data/ml-32m/tags.csv\")\n",
    "\n",
    "# Print a sample to check data\n",
    "print(movies_df.head())\n",
    "print(tags_df.head())\n"
   ]
  },
  {
   "cell_type": "code",
   "execution_count": 7,
   "metadata": {},
   "outputs": [],
   "source": [
    "# Drop NaN values from 'tag' column (since they are floats)\n",
    "tags_df = tags_df.dropna(subset=[\"tag\"])\n",
    "\n",
    "# Convert 'tag' column to string (necessary for concatenation)\n",
    "tags_df[\"tag\"] = tags_df[\"tag\"].astype(str)\n",
    "\n",
    "# Group tags by movieId and concatenate unique tags\n",
    "tags_grouped = tags_df.groupby(\"movieId\")[\"tag\"].apply(lambda x: \" \".join(set(x))).reset_index()\n"
   ]
  },
  {
   "cell_type": "code",
   "execution_count": 8,
   "metadata": {},
   "outputs": [],
   "source": [
    "# Ensure movieId types match before merging\n",
    "movies_df[\"movieId\"] = movies_df[\"movieId\"].astype(int)\n",
    "tags_grouped[\"movieId\"] = tags_grouped[\"movieId\"].astype(int)\n",
    "\n",
    "# Merge movies and tags\n",
    "movies_df = movies_df.merge(tags_grouped, on=\"movieId\", how=\"left\")\n",
    "\n",
    "# Fill NaN tags with empty string\n",
    "movies_df[\"tag\"] = movies_df[\"tag\"].fillna(\"\")\n",
    "\n",
    "# Create movie descriptions by combining genres and tags\n",
    "movies_df[\"description\"] = movies_df[\"genres\"] + \" \" + movies_df[\"tag\"]\n"
   ]
  },
  {
   "cell_type": "code",
   "execution_count": 9,
   "metadata": {},
   "outputs": [
    {
     "data": {
      "text/html": [
       "<div>\n",
       "<style scoped>\n",
       "    .dataframe tbody tr th:only-of-type {\n",
       "        vertical-align: middle;\n",
       "    }\n",
       "\n",
       "    .dataframe tbody tr th {\n",
       "        vertical-align: top;\n",
       "    }\n",
       "\n",
       "    .dataframe thead th {\n",
       "        text-align: right;\n",
       "    }\n",
       "</style>\n",
       "<table border=\"1\" class=\"dataframe\">\n",
       "  <thead>\n",
       "    <tr style=\"text-align: right;\">\n",
       "      <th></th>\n",
       "      <th>movieId</th>\n",
       "      <th>title</th>\n",
       "      <th>genres</th>\n",
       "      <th>tag</th>\n",
       "      <th>description</th>\n",
       "    </tr>\n",
       "  </thead>\n",
       "  <tbody>\n",
       "    <tr>\n",
       "      <th>0</th>\n",
       "      <td>1</td>\n",
       "      <td>Toy Story (1995)</td>\n",
       "      <td>Adventure|Animation|Children|Comedy|Fantasy</td>\n",
       "      <td>shepherdess two word title mother son relation...</td>\n",
       "      <td>Adventure|Animation|Children|Comedy|Fantasy sh...</td>\n",
       "    </tr>\n",
       "    <tr>\n",
       "      <th>1</th>\n",
       "      <td>2</td>\n",
       "      <td>Jumanji (1995)</td>\n",
       "      <td>Adventure|Children|Fantasy</td>\n",
       "      <td>car theft lace rich family mother son relation...</td>\n",
       "      <td>Adventure|Children|Fantasy car theft lace rich...</td>\n",
       "    </tr>\n",
       "    <tr>\n",
       "      <th>2</th>\n",
       "      <td>3</td>\n",
       "      <td>Grumpier Old Men (1995)</td>\n",
       "      <td>Comedy|Romance</td>\n",
       "      <td>sequel best friend sequel fever grun running W...</td>\n",
       "      <td>Comedy|Romance sequel best friend sequel fever...</td>\n",
       "    </tr>\n",
       "    <tr>\n",
       "      <th>3</th>\n",
       "      <td>4</td>\n",
       "      <td>Waiting to Exhale (1995)</td>\n",
       "      <td>Comedy|Drama|Romance</td>\n",
       "      <td>revenge based on novel or book interracial rel...</td>\n",
       "      <td>Comedy|Drama|Romance revenge based on novel or...</td>\n",
       "    </tr>\n",
       "    <tr>\n",
       "      <th>4</th>\n",
       "      <td>5</td>\n",
       "      <td>Father of the Bride Part II (1995)</td>\n",
       "      <td>Comedy</td>\n",
       "      <td>family heartwarming comedy father - child rela...</td>\n",
       "      <td>Comedy family heartwarming comedy father - chi...</td>\n",
       "    </tr>\n",
       "    <tr>\n",
       "      <th>...</th>\n",
       "      <td>...</td>\n",
       "      <td>...</td>\n",
       "      <td>...</td>\n",
       "      <td>...</td>\n",
       "      <td>...</td>\n",
       "    </tr>\n",
       "    <tr>\n",
       "      <th>87580</th>\n",
       "      <td>292731</td>\n",
       "      <td>The Monroy Affaire (2022)</td>\n",
       "      <td>Drama</td>\n",
       "      <td></td>\n",
       "      <td>Drama</td>\n",
       "    </tr>\n",
       "    <tr>\n",
       "      <th>87581</th>\n",
       "      <td>292737</td>\n",
       "      <td>Shelter in Solitude (2023)</td>\n",
       "      <td>Comedy|Drama</td>\n",
       "      <td></td>\n",
       "      <td>Comedy|Drama</td>\n",
       "    </tr>\n",
       "    <tr>\n",
       "      <th>87582</th>\n",
       "      <td>292753</td>\n",
       "      <td>Orca (2023)</td>\n",
       "      <td>Drama</td>\n",
       "      <td></td>\n",
       "      <td>Drama</td>\n",
       "    </tr>\n",
       "    <tr>\n",
       "      <th>87583</th>\n",
       "      <td>292755</td>\n",
       "      <td>The Angry Breed (1968)</td>\n",
       "      <td>Drama</td>\n",
       "      <td></td>\n",
       "      <td>Drama</td>\n",
       "    </tr>\n",
       "    <tr>\n",
       "      <th>87584</th>\n",
       "      <td>292757</td>\n",
       "      <td>Race to the Summit (2023)</td>\n",
       "      <td>Action|Adventure|Documentary</td>\n",
       "      <td></td>\n",
       "      <td>Action|Adventure|Documentary</td>\n",
       "    </tr>\n",
       "  </tbody>\n",
       "</table>\n",
       "<p>87585 rows × 5 columns</p>\n",
       "</div>"
      ],
      "text/plain": [
       "       movieId                               title  \\\n",
       "0            1                    Toy Story (1995)   \n",
       "1            2                      Jumanji (1995)   \n",
       "2            3             Grumpier Old Men (1995)   \n",
       "3            4            Waiting to Exhale (1995)   \n",
       "4            5  Father of the Bride Part II (1995)   \n",
       "...        ...                                 ...   \n",
       "87580   292731           The Monroy Affaire (2022)   \n",
       "87581   292737          Shelter in Solitude (2023)   \n",
       "87582   292753                         Orca (2023)   \n",
       "87583   292755              The Angry Breed (1968)   \n",
       "87584   292757           Race to the Summit (2023)   \n",
       "\n",
       "                                            genres  \\\n",
       "0      Adventure|Animation|Children|Comedy|Fantasy   \n",
       "1                       Adventure|Children|Fantasy   \n",
       "2                                   Comedy|Romance   \n",
       "3                             Comedy|Drama|Romance   \n",
       "4                                           Comedy   \n",
       "...                                            ...   \n",
       "87580                                        Drama   \n",
       "87581                                 Comedy|Drama   \n",
       "87582                                        Drama   \n",
       "87583                                        Drama   \n",
       "87584                 Action|Adventure|Documentary   \n",
       "\n",
       "                                                     tag  \\\n",
       "0      shepherdess two word title mother son relation...   \n",
       "1      car theft lace rich family mother son relation...   \n",
       "2      sequel best friend sequel fever grun running W...   \n",
       "3      revenge based on novel or book interracial rel...   \n",
       "4      family heartwarming comedy father - child rela...   \n",
       "...                                                  ...   \n",
       "87580                                                      \n",
       "87581                                                      \n",
       "87582                                                      \n",
       "87583                                                      \n",
       "87584                                                      \n",
       "\n",
       "                                             description  \n",
       "0      Adventure|Animation|Children|Comedy|Fantasy sh...  \n",
       "1      Adventure|Children|Fantasy car theft lace rich...  \n",
       "2      Comedy|Romance sequel best friend sequel fever...  \n",
       "3      Comedy|Drama|Romance revenge based on novel or...  \n",
       "4      Comedy family heartwarming comedy father - chi...  \n",
       "...                                                  ...  \n",
       "87580                                             Drama   \n",
       "87581                                      Comedy|Drama   \n",
       "87582                                             Drama   \n",
       "87583                                             Drama   \n",
       "87584                      Action|Adventure|Documentary   \n",
       "\n",
       "[87585 rows x 5 columns]"
      ]
     },
     "execution_count": 9,
     "metadata": {},
     "output_type": "execute_result"
    }
   ],
   "source": [
    "movies_df"
   ]
  },
  {
   "cell_type": "code",
   "execution_count": 10,
   "metadata": {},
   "outputs": [
    {
     "name": "stdout",
     "output_type": "stream",
     "text": [
      "Embeddings generated successfully!\n"
     ]
    }
   ],
   "source": [
    "# Ensure 'description' column exists\n",
    "if \"description\" in movies_df.columns:\n",
    "    movie_descriptions = movies_df[\"description\"].astype(str).tolist()\n",
    "else:\n",
    "    raise ValueError(\"The 'description' column is missing from movies_df.\")\n",
    "\n",
    "# Generate embeddings\n",
    "from sentence_transformers import SentenceTransformer\n",
    "\n",
    "model = SentenceTransformer('all-MiniLM-L6-v2')\n",
    "embeddings = model.encode(movie_descriptions, normalize_embeddings=True)\n",
    "\n",
    "print(\"Embeddings generated successfully!\")\n"
   ]
  },
  {
   "cell_type": "code",
   "execution_count": 11,
   "metadata": {},
   "outputs": [],
   "source": [
    "train_data = [\n",
    "    (\"Toy Story is a great animation\", \"Finding Nemo is also amazing\", 1),  # Similar\n",
    "    (\"Horror movies are scary\", \"Romantic comedies are funny\", 0),  # Dissimilar\n",
    "]\n"
   ]
  },
  {
   "cell_type": "code",
   "execution_count": 12,
   "metadata": {},
   "outputs": [],
   "source": [
    "from torch.utils.data import DataLoader\n",
    "from sentence_transformers import InputExample\n",
    "\n",
    "# Convert data into Sentence Transformers format\n",
    "train_examples = [InputExample(texts=[a, b], label=float(score)) for a, b, score in train_data]\n",
    "\n",
    "# Create DataLoader\n",
    "train_dataloader = DataLoader(train_examples, shuffle=True, batch_size=8)\n"
   ]
  },
  {
   "cell_type": "code",
   "execution_count": 13,
   "metadata": {},
   "outputs": [],
   "source": [
    "from sentence_transformers import losses\n",
    "\n",
    "loss_function = losses.ContrastiveLoss(model)\n"
   ]
  },
  {
   "cell_type": "code",
   "execution_count": 14,
   "metadata": {},
   "outputs": [
    {
     "data": {
      "application/vnd.jupyter.widget-view+json": {
       "model_id": "2562e4decd43439290243b29405841b6",
       "version_major": 2,
       "version_minor": 0
      },
      "text/plain": [
       "Computing widget examples:   0%|          | 0/1 [00:00<?, ?example/s]"
      ]
     },
     "metadata": {},
     "output_type": "display_data"
    },
    {
     "data": {
      "text/html": [
       "\n",
       "    <div>\n",
       "      \n",
       "      <progress value='1' max='1' style='width:300px; height:20px; vertical-align: middle;'></progress>\n",
       "      [1/1 00:00, Epoch 1/1]\n",
       "    </div>\n",
       "    <table border=\"1\" class=\"dataframe\">\n",
       "  <thead>\n",
       " <tr style=\"text-align: left;\">\n",
       "      <th>Step</th>\n",
       "      <th>Training Loss</th>\n",
       "    </tr>\n",
       "  </thead>\n",
       "  <tbody>\n",
       "  </tbody>\n",
       "</table><p>"
      ],
      "text/plain": [
       "<IPython.core.display.HTML object>"
      ]
     },
     "metadata": {},
     "output_type": "display_data"
    },
    {
     "name": "stdout",
     "output_type": "stream",
     "text": [
      "Fine-tuning complete!\n"
     ]
    }
   ],
   "source": [
    "import torch\n",
    "from torch.utils.data import DataLoader\n",
    "from sentence_transformers import SentenceTransformer, InputExample, losses\n",
    "\n",
    "# Train the model\n",
    "model.fit(train_objectives=[(train_dataloader, loss_function)], epochs=1)\n",
    "\n",
    "print(\"Fine-tuning complete!\")"
   ]
  }
 ],
 "metadata": {
  "kernelspec": {
   "display_name": "base",
   "language": "python",
   "name": "python3"
  },
  "language_info": {
   "codemirror_mode": {
    "name": "ipython",
    "version": 3
   },
   "file_extension": ".py",
   "mimetype": "text/x-python",
   "name": "python",
   "nbconvert_exporter": "python",
   "pygments_lexer": "ipython3",
   "version": "3.12.7"
  }
 },
 "nbformat": 4,
 "nbformat_minor": 2
}
